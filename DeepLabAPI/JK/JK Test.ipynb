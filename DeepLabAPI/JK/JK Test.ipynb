{
 "cells": [
  {
   "cell_type": "code",
   "execution_count": 49,
   "metadata": {
    "scrolled": true
   },
   "outputs": [
    {
     "data": {
      "text/plain": [
       "<matplotlib.image.AxesImage at 0x1384e6e11d0>"
      ]
     },
     "execution_count": 49,
     "metadata": {},
     "output_type": "execute_result"
    },
    {
     "data": {
      "image/png": "[encoded data removed]",
      "text/plain": [
       "<Figure size 1440x1080 with 1 Axes>"
      ]
     },
     "metadata": {
      "needs_background": "light"
     },
     "output_type": "display_data"
    }
   ],
   "source": [
    "import requests\n",
    "import json\n",
    "import cv2\n",
    "from PIL import Image\n",
    "import numpy as np\n",
    "from matplotlib import pyplot as plt\n",
    "import matplotlib.image as mpimg\n",
    "\n",
    "#URL = 'http://143.248.94.189:35005/api/predict'\n",
    "#URL = 'http://143.248.96.81:35005/api/predict'\n",
    "URL = 'http://143.248.96.69:35005/api/predictIndex'\n",
    "URLGetColor = 'http://143.248.96.69:35005/api/colorMap'\n",
    "\n",
    "def convertTuple(list): \n",
    "    return tuple(i for i in list) \n",
    "\n",
    "LABEL_NAMES = np.array(['wall' ,'building' ,'sky' ,'floor' ,'tree' ,'ceiling' ,'road' ,'bed' ,'windowpane' ,'grass' ,'cabinet' ,'sidewalk' ,'person' ,'earth' ,'door' ,'table' ,'mountain' ,'plant' ,'curtain' ,'chair' ,'car' ,'water' ,'painting' ,'sofa' ,'shelf' ,'house' ,'sea' ,'mirror' ,'rug' ,'field' ,'armchair' ,'seat' ,'fence' ,'desk' ,'rock' ,'wardrobe' ,'lamp' ,'bathtub' ,'railing' ,'cushion' ,'base' ,'box' ,'column' ,'signboard' ,'chest of drawers' ,'counter' ,'sand' ,'sink' ,'skyscraper' ,'fireplace' ,'refrigerator' ,'grandstand' ,'path' ,'stairs' ,'runway' ,'case' ,'pool table' ,'pillow' ,'screen door' ,'stairway' ,'river' ,'bridge' ,'bookcase' ,'blind' ,'coffee table' ,'toilet' ,'flower' ,'book' ,'hill' ,'bench' ,'countertop' ,'stove' ,'palm' ,'kitchen island' ,'computer' ,'swivel chair' ,'boat' ,'bar' ,'arcade machine' ,'hovel' ,'bus' ,'towel' ,'light' ,'truck' ,'tower' ,'chandelier' ,'awning' ,'streetlight' ,'booth' ,'television' ,'airplane' ,'dirt track' ,'apparel' ,'pole' ,'land' ,'bannister' ,'escalator' ,'ottoman' ,'bottle' ,'buffet' ,'poster' ,'stage' ,'van' ,'ship' ,'fountain' ,'conveyer belt' ,'canopy' ,'washer' ,'plaything' ,'swimming pool' ,'stool' ,'barrel' ,'basket' ,'waterfall' ,'tent' ,'bag' ,'minibike' ,'cradle' ,'oven' ,'ball' ,'food' ,'step' ,'tank' ,'trade name' ,'microwave' ,'pot' ,'animal' ,'bicycle' ,'lake' ,'dishwasher' ,'screen' ,'blanket' ,'sculpture' ,'hood' ,'sconce' ,'vase' ,'traffic light' ,'tray' ,'ashcan' ,'fan' ,'pier' ,'crt screen' ,'plate' ,'monitor' ,'bulletin board' ,'shower' ,'radiator' ,'glass' ,'clock' ,'flag'])\n",
    "\n",
    "#img_path = './data/ki_office/3.png'\n",
    "img_path = '../../Dataset/test1.jpg'\n",
    "#img_gt = '../../Dataset/groundtruth1.png'\n",
    "im1 = cv2.imread(img_path)\n",
    "\n",
    "rNum, cNum = im1.shape[:2]\n",
    "\n",
    "strImgTest = '['\n",
    "for r in range(rNum):\n",
    "    strImgTest+='['\n",
    "    for c in range(cNum):\n",
    "        strTmp = '['+str((im1[r][c][0]))+','+str((im1[r][c][1]))+','+str((im1[r][c][2]))+']'\n",
    "        strImgTest+=strTmp\n",
    "        if c !=cNum-1 :\n",
    "            strImgTest+=','\n",
    "    strImgTest+=']'\n",
    "    if r != rNum-1:\n",
    "        strImgTest += ','\n",
    "strImgTest+=']'\n",
    "\n",
    "res = requests.post(url=URL, data={'image':strImgTest})\n",
    "param = json.loads(res.text)\n",
    "\n",
    "seg_res = param['seg_index']\n",
    "seg_array = np.array(seg_res, dtype=np.uint8)\n",
    "#print(seg_array.shape[:2])\n",
    "\n",
    "colorMap_request = requests.get(url=URLGetColor)\n",
    "colorMap_param = json.loads(colorMap_request.text)\n",
    "colorMap_res = colorMap_param['colorMap']\n",
    "colorMap = np.array(colorMap_res, dtype=np.uint8)\n",
    "\n",
    "rowNum, colNum = seg_array.shape[:2]\n",
    "seg_img = Image.new(\"RGB\", (rowNum, colNum))\n",
    "\n",
    "for i in range(rowNum):\n",
    "    for j in range(colNum):\n",
    "        index = seg_array[i,j] - 1\n",
    "        #print(seg_array[i,j])\n",
    "        if LABEL_NAMES[index] == 'bed' or LABEL_NAMES[index] == 'door' or LABEL_NAMES[index] == 'table' or LABEL_NAMES[index] == 'sofa' or LABEL_NAMES[index] == 'shelf' or LABEL_NAMES[index] == 'wardrobe' or LABEL_NAMES[index] == 'chest of drawers' or LABEL_NAMES[index] == 'bookcase' or LABEL_NAMES[index] == 'desk':\n",
    "            colr = convertTuple(colorMap[index][0])\n",
    "            seg_img.putpixel((i,j), colr)\n",
    "            \n",
    "\n",
    "#seg_img = np.array(Image.fromarray(seg_array))\n",
    "plt.figure(figsize=(20, 15))\n",
    "plt.imshow(seg_img)\n",
    "\n",
    "#height, width = im1.shape[:2]\n",
    "#dim = (width, height)\n",
    "#resized = cv2.resize(seg_img, dim, interpolation = cv2.INTER_AREA);\n",
    "\n",
    "\n"
   ]
  },
  {
   "cell_type": "code",
   "execution_count": null,
   "metadata": {},
   "outputs": [],
   "source": [
    "\n"
   ]
  },
  {
   "cell_type": "code",
   "execution_count": null,
   "metadata": {},
   "outputs": [],
   "source": []
  },
  {
   "cell_type": "code",
   "execution_count": null,
   "metadata": {},
   "outputs": [],
   "source": []
  },
  {
   "cell_type": "code",
   "execution_count": null,
   "metadata": {},
   "outputs": [],
   "source": []
  }
 ],
 "metadata": {
  "kernelspec": {
   "display_name": "Python 3",
   "language": "python",
   "name": "python3"
  },
  "language_info": {
   "codemirror_mode": {
    "name": "ipython",
    "version": 3
   },
   "file_extension": ".py",
   "mimetype": "text/x-python",
   "name": "python",
   "nbconvert_exporter": "python",
   "pygments_lexer": "ipython3",
   "version": "3.7.0"
  }
 },
 "nbformat": 4,
 "nbformat_minor": 4
}
