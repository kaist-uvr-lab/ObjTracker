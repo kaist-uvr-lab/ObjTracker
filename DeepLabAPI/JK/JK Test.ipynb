{
 "cells": [
  {
   "cell_type": "code",
   "execution_count": 1,
   "metadata": {
    "scrolled": true
   },
   "outputs": [
    {
     "name": "stdout",
     "output_type": "stream",
     "text": [
      "(300, 440, 3)\n",
      "(349, 513, 3)\n",
      "0.9771363636363637\n"
     ]
    }
   ],
   "source": [
    "import requests\n",
    "import json\n",
    "import cv2\n",
    "from PIL import Image\n",
    "import numpy as np\n",
    "from matplotlib import pyplot as plt\n",
    "import matplotlib.image as mpimg\n",
    "\n",
    "URL = 'http://143.248.94.189:35005/api/predict'\n",
    "#URL = 'http://143.248.96.81:35005/api/predict'\n",
    "\n",
    "#img_path = './data/ki_office/3.png'\n",
    "img_path = '../Dataset/test2.jpg'\n",
    "img_gt = '../Dataset/groundtruth2.png'\n",
    "im1 = cv2.imread(img_path)\n",
    "imgGT = cv2.imread(img_gt);\n",
    "imgGTgray = cv2.cvtColor(imgGT, cv2.COLOR_BGR2GRAY)\n",
    "\n",
    "# rNum = 360\n",
    "# cNum = 640\n",
    "rNum, cNum = im1.shape[:2]\n",
    "\n",
    "#if im1.shape != [rNum,cNum]:\n",
    "#    im1 = cv2.resize(im1, (cNum, rNum))\n",
    "\n",
    "im1=cv2.cvtColor(im1, cv2.COLOR_RGB2BGR)\n",
    "print(im1.shape)\n",
    "\n",
    "\n",
    "strImgTest = '['\n",
    "for r in range(rNum):\n",
    "    strImgTest+='['\n",
    "    for c in range(cNum):\n",
    "        strTmp = '['+str((im1[r][c][0]))+','+str((im1[r][c][1]))+','+str((im1[r][c][2]))+']'\n",
    "        strImgTest+=strTmp\n",
    "\n",
    "        if c !=cNum-1 :\n",
    "            strImgTest+=','\n",
    "    strImgTest+=']'\n",
    "    if r != rNum-1:\n",
    "        strImgTest += ','\n",
    "strImgTest+=']'\n",
    "\n",
    "#plt.figure(figsize=(20, 15))\n",
    "#plt.imshow(img)\n",
    "#plt.show()\n",
    "\n",
    "res = requests.post(url=URL, data={'image':strImgTest})\n",
    "param = json.loads(res.text)\n",
    "\n",
    "seg_res = param['seg_img']\n",
    "seg_array = np.array(seg_res, dtype=np.uint8)\n",
    "print(seg_array.shape)\n",
    "\n",
    "seg_img = np.array(Image.fromarray(seg_array))\n",
    "plt.figure(figsize=(20, 15))\n",
    "plt.imshow(seg_img)\n",
    "\n",
    "height, width = im1.shape[:2]\n",
    "dim = (width, height)\n",
    "resized = cv2.resize(seg_img, dim, interpolation = cv2.INTER_AREA);\n",
    "\n",
    "#print(type(im1),\"|\",im1.shape)\n",
    "#print(type(seg_img),\"|\",seg_img.shape)\n",
    "\n",
    "#print(imgGTgray.shape)\n",
    "seg_gray = cv2.cvtColor(resized, cv2.COLOR_BGR2GRAY)\n",
    "#print(seg_gray.shape)\n",
    "\n",
    "intersection = np.logical_and(imgGTgray, seg_gray)\n",
    "union = np.logical_or(imgGTgray, seg_gray)\n",
    "iou_score = np.sum(intersection) / np.sum(union)\n",
    "\n",
    "print(iou_score)\n"
   ]
  },
  {
   "cell_type": "code",
   "execution_count": null,
   "metadata": {},
   "outputs": [],
   "source": [
    "\n"
   ]
  },
  {
   "cell_type": "code",
   "execution_count": null,
   "metadata": {},
   "outputs": [],
   "source": []
  },
  {
   "cell_type": "code",
   "execution_count": null,
   "metadata": {},
   "outputs": [],
   "source": []
  },
  {
   "cell_type": "code",
   "execution_count": null,
   "metadata": {},
   "outputs": [],
   "source": []
  }
 ],
 "metadata": {
  "kernelspec": {
   "display_name": "Python 3",
   "language": "python",
   "name": "python3"
  },
  "language_info": {
   "codemirror_mode": {
    "name": "ipython",
    "version": 3
   },
   "file_extension": ".py",
   "mimetype": "text/x-python",
   "name": "python",
   "nbconvert_exporter": "python",
   "pygments_lexer": "ipython3",
   "version": "3.7.0"
  }
 },
 "nbformat": 4,
 "nbformat_minor": 4
}
