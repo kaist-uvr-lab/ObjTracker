{
 "cells": [
  {
   "cell_type": "code",
   "execution_count": 1,
   "metadata": {
    "scrolled": true
   },
   "outputs": [
    {
     "ename": "ModuleNotFoundError",
     "evalue": "No module named 'requests'",
     "output_type": "error",
     "traceback": [
      "\u001b[1;31m---------------------------------------------------------------------------\u001b[0m",
      "\u001b[1;31mModuleNotFoundError\u001b[0m                       Traceback (most recent call last)",
      "\u001b[1;32m<ipython-input-1-fa6bd291a0b3>\u001b[0m in \u001b[0;36m<module>\u001b[1;34m\u001b[0m\n\u001b[1;32m----> 1\u001b[1;33m \u001b[1;32mimport\u001b[0m \u001b[0mrequests\u001b[0m\u001b[1;33m,\u001b[0m \u001b[0mjson\u001b[0m\u001b[1;33m,\u001b[0m \u001b[0mcv2\u001b[0m\u001b[1;33m\u001b[0m\u001b[0m\n\u001b[0m\u001b[0;32m      2\u001b[0m \u001b[1;32mfrom\u001b[0m \u001b[0mPIL\u001b[0m \u001b[1;32mimport\u001b[0m \u001b[0mImage\u001b[0m\u001b[1;33m\u001b[0m\u001b[0m\n\u001b[0;32m      3\u001b[0m \u001b[1;32mimport\u001b[0m \u001b[0mnumpy\u001b[0m \u001b[1;32mas\u001b[0m \u001b[0mnp\u001b[0m\u001b[1;33m\u001b[0m\u001b[0m\n\u001b[0;32m      4\u001b[0m \u001b[1;32mfrom\u001b[0m \u001b[0mmatplotlib\u001b[0m \u001b[1;32mimport\u001b[0m \u001b[0mpyplot\u001b[0m \u001b[1;32mas\u001b[0m \u001b[0mplt\u001b[0m\u001b[1;33m\u001b[0m\u001b[0m\n\u001b[0;32m      5\u001b[0m \u001b[1;33m\u001b[0m\u001b[0m\n",
      "\u001b[1;31mModuleNotFoundError\u001b[0m: No module named 'requests'"
     ]
    }
   ],
   "source": [
    "import requests, json, cv2\n",
    "from PIL import Image\n",
    "import numpy as np\n",
    "from matplotlib import pyplot as plt\n",
    "\n",
    "#URL = 'http://143.248.94.189:35005/api/predict'\n",
    "URL = 'http://143.248.96.81:35005/api/predict'\n",
    "\n",
    "#img_path = './data/ki_office/3.png'\n",
    "img_path = './data/ki_outdoor/2.png'\n",
    "im1 = cv2.imread(img_path)\n",
    "\n",
    "rNum = 360\n",
    "cNum = 640\n",
    "\n",
    "if im1.shape != [rNum,cNum]:\n",
    "    im1 = cv2.resize(im1, (cNum, rNum))\n",
    "\n",
    "im1=cv2.cvtColor(im1, cv2.COLOR_RGB2BGR)\n",
    "print(im1.shape)\n",
    "\n",
    "\n",
    "strImgTest = '['\n",
    "for r in range(rNum):\n",
    "    strImgTest+='['\n",
    "    for c in range(cNum):\n",
    "        strTmp = '['+str((im1[r][c][0]))+','+str((im1[r][c][1]))+','+str((im1[r][c][2]))+']'\n",
    "        strImgTest+=strTmp\n",
    "\n",
    "        if c !=cNum-1 :\n",
    "            strImgTest+=','\n",
    "    strImgTest+=']'\n",
    "    if r != rNum-1:\n",
    "        strImgTest += ','\n",
    "strImgTest+=']'\n",
    "\n",
    "#plt.figure(figsize=(20, 15))\n",
    "#plt.imshow(img)\n",
    "#plt.show()\n",
    "\n",
    "res = requests.post(url=URL, data={'image':strImgTest})\n",
    "\n",
    "param = json.loads(res.text)\n",
    "seg_res = param['seg_img']\n",
    "seg_array = np.array(seg_res, dtype=np.uint8)\n",
    "print(seg_array.shape)\n",
    "seg_img = Image.fromarray(seg_array)\n",
    "plt.figure(figsize=(20, 15))\n",
    "plt.imshow(seg_img)"
   ]
  },
  {
   "cell_type": "code",
   "execution_count": null,
   "metadata": {},
   "outputs": [],
   "source": [
    "\n"
   ]
  },
  {
   "cell_type": "code",
   "execution_count": null,
   "metadata": {},
   "outputs": [],
   "source": []
  },
  {
   "cell_type": "code",
   "execution_count": null,
   "metadata": {},
   "outputs": [],
   "source": []
  }
 ],
 "metadata": {
  "kernelspec": {
   "display_name": "Python 3",
   "language": "python",
   "name": "python3"
  },
  "language_info": {
   "codemirror_mode": {
    "name": "ipython",
    "version": 3
   },
   "file_extension": ".py",
   "mimetype": "text/x-python",
   "name": "python",
   "nbconvert_exporter": "python",
   "pygments_lexer": "ipython3",
   "version": "3.7.0"
  }
 },
 "nbformat": 4,
 "nbformat_minor": 2
}
